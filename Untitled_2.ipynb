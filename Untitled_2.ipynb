{
 "cells": [
  {
   "cell_type": "code",
   "execution_count": 1,
   "id": "1ef87cd1-8cef-46e2-b35d-81cb40cd60a5",
   "metadata": {},
   "outputs": [],
   "source": [
    "import pandas as pd\n",
    "import numpy as np\n",
    "import warnings\n",
    "import matplotlib.pyplot as plt\n",
    "warnings.filterwarnings(\"ignore\")"
   ]
  },
  {
   "cell_type": "markdown",
   "id": "9a5b1750-a7b7-4301-b0b3-e84c575bb0b3",
   "metadata": {},
   "source": [
    "<h3>READ & CHECK DATAFRAME</h3>"
   ]
  },
  {
   "cell_type": "code",
   "execution_count": 2,
   "id": "c040cca8-20c4-40c3-bd86-b20ffe966603",
   "metadata": {
    "scrolled": true
   },
   "outputs": [
    {
     "data": {
      "text/html": [
       "<div>\n",
       "<style scoped>\n",
       "    .dataframe tbody tr th:only-of-type {\n",
       "        vertical-align: middle;\n",
       "    }\n",
       "\n",
       "    .dataframe tbody tr th {\n",
       "        vertical-align: top;\n",
       "    }\n",
       "\n",
       "    .dataframe thead th {\n",
       "        text-align: right;\n",
       "    }\n",
       "</style>\n",
       "<table border=\"1\" class=\"dataframe\">\n",
       "  <thead>\n",
       "    <tr style=\"text-align: right;\">\n",
       "      <th></th>\n",
       "      <th>Index</th>\n",
       "      <th>Accident_Severity</th>\n",
       "      <th>Accident Date</th>\n",
       "      <th>Latitude</th>\n",
       "      <th>Light_Conditions</th>\n",
       "      <th>District Area</th>\n",
       "      <th>Longitude</th>\n",
       "      <th>Number_of_Casualties</th>\n",
       "      <th>Number_of_Vehicles</th>\n",
       "      <th>Road_Surface_Conditions</th>\n",
       "      <th>Road_Type</th>\n",
       "      <th>Urban_or_Rural_Area</th>\n",
       "      <th>Weather_Conditions</th>\n",
       "      <th>Vehicle_Type</th>\n",
       "    </tr>\n",
       "  </thead>\n",
       "  <tbody>\n",
       "    <tr>\n",
       "      <th>0</th>\n",
       "      <td>200701BS64157</td>\n",
       "      <td>Serious</td>\n",
       "      <td>5/6/2019</td>\n",
       "      <td>51.506187</td>\n",
       "      <td>Darkness - lights lit</td>\n",
       "      <td>Kensington and Chelsea</td>\n",
       "      <td>-0.209082</td>\n",
       "      <td>1</td>\n",
       "      <td>2</td>\n",
       "      <td>Dry</td>\n",
       "      <td>Single carriageway</td>\n",
       "      <td>Urban</td>\n",
       "      <td>Fine no high winds</td>\n",
       "      <td>Car</td>\n",
       "    </tr>\n",
       "    <tr>\n",
       "      <th>1</th>\n",
       "      <td>200701BS65737</td>\n",
       "      <td>Serious</td>\n",
       "      <td>2/7/2019</td>\n",
       "      <td>51.495029</td>\n",
       "      <td>Daylight</td>\n",
       "      <td>Kensington and Chelsea</td>\n",
       "      <td>-0.173647</td>\n",
       "      <td>1</td>\n",
       "      <td>2</td>\n",
       "      <td>Wet or damp</td>\n",
       "      <td>Single carriageway</td>\n",
       "      <td>Urban</td>\n",
       "      <td>Raining no high winds</td>\n",
       "      <td>Car</td>\n",
       "    </tr>\n",
       "    <tr>\n",
       "      <th>2</th>\n",
       "      <td>200701BS66127</td>\n",
       "      <td>Serious</td>\n",
       "      <td>26-08-2019</td>\n",
       "      <td>51.517715</td>\n",
       "      <td>Darkness - lighting unknown</td>\n",
       "      <td>Kensington and Chelsea</td>\n",
       "      <td>-0.210215</td>\n",
       "      <td>1</td>\n",
       "      <td>3</td>\n",
       "      <td>Dry</td>\n",
       "      <td>NaN</td>\n",
       "      <td>Urban</td>\n",
       "      <td>NaN</td>\n",
       "      <td>Taxi/Private hire car</td>\n",
       "    </tr>\n",
       "    <tr>\n",
       "      <th>3</th>\n",
       "      <td>200701BS66128</td>\n",
       "      <td>Serious</td>\n",
       "      <td>16-08-2019</td>\n",
       "      <td>51.495478</td>\n",
       "      <td>Daylight</td>\n",
       "      <td>Kensington and Chelsea</td>\n",
       "      <td>-0.202731</td>\n",
       "      <td>1</td>\n",
       "      <td>4</td>\n",
       "      <td>Dry</td>\n",
       "      <td>Single carriageway</td>\n",
       "      <td>Urban</td>\n",
       "      <td>Fine no high winds</td>\n",
       "      <td>Bus or coach (17 or more pass seats)</td>\n",
       "    </tr>\n",
       "    <tr>\n",
       "      <th>4</th>\n",
       "      <td>200701BS66837</td>\n",
       "      <td>Slight</td>\n",
       "      <td>3/9/2019</td>\n",
       "      <td>51.488576</td>\n",
       "      <td>Darkness - lights lit</td>\n",
       "      <td>Kensington and Chelsea</td>\n",
       "      <td>-0.192487</td>\n",
       "      <td>1</td>\n",
       "      <td>2</td>\n",
       "      <td>Dry</td>\n",
       "      <td>NaN</td>\n",
       "      <td>Urban</td>\n",
       "      <td>NaN</td>\n",
       "      <td>Other vehicle</td>\n",
       "    </tr>\n",
       "    <tr>\n",
       "      <th>...</th>\n",
       "      <td>...</td>\n",
       "      <td>...</td>\n",
       "      <td>...</td>\n",
       "      <td>...</td>\n",
       "      <td>...</td>\n",
       "      <td>...</td>\n",
       "      <td>...</td>\n",
       "      <td>...</td>\n",
       "      <td>...</td>\n",
       "      <td>...</td>\n",
       "      <td>...</td>\n",
       "      <td>...</td>\n",
       "      <td>...</td>\n",
       "      <td>...</td>\n",
       "    </tr>\n",
       "    <tr>\n",
       "      <th>660674</th>\n",
       "      <td>201091NM01760</td>\n",
       "      <td>Slight</td>\n",
       "      <td>18-02-2022</td>\n",
       "      <td>57.374005</td>\n",
       "      <td>Daylight</td>\n",
       "      <td>Highland</td>\n",
       "      <td>-3.467828</td>\n",
       "      <td>2</td>\n",
       "      <td>1</td>\n",
       "      <td>Dry</td>\n",
       "      <td>Single carriageway</td>\n",
       "      <td>Rural</td>\n",
       "      <td>Fine no high winds</td>\n",
       "      <td>Car</td>\n",
       "    </tr>\n",
       "    <tr>\n",
       "      <th>660675</th>\n",
       "      <td>201091NM01881</td>\n",
       "      <td>Slight</td>\n",
       "      <td>21-02-2022</td>\n",
       "      <td>57.232273</td>\n",
       "      <td>Darkness - no lighting</td>\n",
       "      <td>Highland</td>\n",
       "      <td>-3.809281</td>\n",
       "      <td>1</td>\n",
       "      <td>1</td>\n",
       "      <td>Frost or ice</td>\n",
       "      <td>Single carriageway</td>\n",
       "      <td>Rural</td>\n",
       "      <td>Fine no high winds</td>\n",
       "      <td>Car</td>\n",
       "    </tr>\n",
       "    <tr>\n",
       "      <th>660676</th>\n",
       "      <td>201091NM01935</td>\n",
       "      <td>Slight</td>\n",
       "      <td>23-02-2022</td>\n",
       "      <td>57.585044</td>\n",
       "      <td>Daylight</td>\n",
       "      <td>Highland</td>\n",
       "      <td>-3.862727</td>\n",
       "      <td>1</td>\n",
       "      <td>3</td>\n",
       "      <td>Frost or ice</td>\n",
       "      <td>Single carriageway</td>\n",
       "      <td>Rural</td>\n",
       "      <td>Fine no high winds</td>\n",
       "      <td>Car</td>\n",
       "    </tr>\n",
       "    <tr>\n",
       "      <th>660677</th>\n",
       "      <td>201091NM01964</td>\n",
       "      <td>Serious</td>\n",
       "      <td>23-02-2022</td>\n",
       "      <td>57.214898</td>\n",
       "      <td>Darkness - no lighting</td>\n",
       "      <td>Highland</td>\n",
       "      <td>-3.823997</td>\n",
       "      <td>1</td>\n",
       "      <td>2</td>\n",
       "      <td>Wet or damp</td>\n",
       "      <td>Single carriageway</td>\n",
       "      <td>Rural</td>\n",
       "      <td>Fine no high winds</td>\n",
       "      <td>Motorcycle over 500cc</td>\n",
       "    </tr>\n",
       "    <tr>\n",
       "      <th>660678</th>\n",
       "      <td>201091NM02142</td>\n",
       "      <td>Serious</td>\n",
       "      <td>28-02-2022</td>\n",
       "      <td>57.575210</td>\n",
       "      <td>Daylight</td>\n",
       "      <td>Highland</td>\n",
       "      <td>-3.895673</td>\n",
       "      <td>1</td>\n",
       "      <td>1</td>\n",
       "      <td>Wet or damp</td>\n",
       "      <td>Dual carriageway</td>\n",
       "      <td>Rural</td>\n",
       "      <td>Snowing no high winds</td>\n",
       "      <td>Car</td>\n",
       "    </tr>\n",
       "  </tbody>\n",
       "</table>\n",
       "<p>660679 rows × 14 columns</p>\n",
       "</div>"
      ],
      "text/plain": [
       "                Index Accident_Severity Accident Date   Latitude  \\\n",
       "0       200701BS64157           Serious      5/6/2019  51.506187   \n",
       "1       200701BS65737           Serious      2/7/2019  51.495029   \n",
       "2       200701BS66127           Serious    26-08-2019  51.517715   \n",
       "3       200701BS66128           Serious    16-08-2019  51.495478   \n",
       "4       200701BS66837            Slight      3/9/2019  51.488576   \n",
       "...               ...               ...           ...        ...   \n",
       "660674  201091NM01760            Slight    18-02-2022  57.374005   \n",
       "660675  201091NM01881            Slight    21-02-2022  57.232273   \n",
       "660676  201091NM01935            Slight    23-02-2022  57.585044   \n",
       "660677  201091NM01964           Serious    23-02-2022  57.214898   \n",
       "660678  201091NM02142           Serious    28-02-2022  57.575210   \n",
       "\n",
       "                   Light_Conditions           District Area  Longitude  \\\n",
       "0             Darkness - lights lit  Kensington and Chelsea  -0.209082   \n",
       "1                          Daylight  Kensington and Chelsea  -0.173647   \n",
       "2       Darkness - lighting unknown  Kensington and Chelsea  -0.210215   \n",
       "3                          Daylight  Kensington and Chelsea  -0.202731   \n",
       "4             Darkness - lights lit  Kensington and Chelsea  -0.192487   \n",
       "...                             ...                     ...        ...   \n",
       "660674                     Daylight                Highland  -3.467828   \n",
       "660675       Darkness - no lighting                Highland  -3.809281   \n",
       "660676                     Daylight                Highland  -3.862727   \n",
       "660677       Darkness - no lighting                Highland  -3.823997   \n",
       "660678                     Daylight                Highland  -3.895673   \n",
       "\n",
       "        Number_of_Casualties  Number_of_Vehicles Road_Surface_Conditions  \\\n",
       "0                          1                   2                     Dry   \n",
       "1                          1                   2             Wet or damp   \n",
       "2                          1                   3                     Dry   \n",
       "3                          1                   4                     Dry   \n",
       "4                          1                   2                     Dry   \n",
       "...                      ...                 ...                     ...   \n",
       "660674                     2                   1                     Dry   \n",
       "660675                     1                   1            Frost or ice   \n",
       "660676                     1                   3            Frost or ice   \n",
       "660677                     1                   2             Wet or damp   \n",
       "660678                     1                   1             Wet or damp   \n",
       "\n",
       "                 Road_Type Urban_or_Rural_Area     Weather_Conditions  \\\n",
       "0       Single carriageway               Urban     Fine no high winds   \n",
       "1       Single carriageway               Urban  Raining no high winds   \n",
       "2                      NaN               Urban                    NaN   \n",
       "3       Single carriageway               Urban     Fine no high winds   \n",
       "4                      NaN               Urban                    NaN   \n",
       "...                    ...                 ...                    ...   \n",
       "660674  Single carriageway               Rural     Fine no high winds   \n",
       "660675  Single carriageway               Rural     Fine no high winds   \n",
       "660676  Single carriageway               Rural     Fine no high winds   \n",
       "660677  Single carriageway               Rural     Fine no high winds   \n",
       "660678    Dual carriageway               Rural  Snowing no high winds   \n",
       "\n",
       "                                Vehicle_Type  \n",
       "0                                        Car  \n",
       "1                                        Car  \n",
       "2                      Taxi/Private hire car  \n",
       "3       Bus or coach (17 or more pass seats)  \n",
       "4                              Other vehicle  \n",
       "...                                      ...  \n",
       "660674                                   Car  \n",
       "660675                                   Car  \n",
       "660676                                   Car  \n",
       "660677                 Motorcycle over 500cc  \n",
       "660678                                   Car  \n",
       "\n",
       "[660679 rows x 14 columns]"
      ]
     },
     "execution_count": 2,
     "metadata": {},
     "output_type": "execute_result"
    }
   ],
   "source": [
    "accident = pd.read_csv('uk_road_accident.csv')\n",
    "accident"
   ]
  },
  {
   "cell_type": "code",
   "execution_count": 3,
   "id": "44edf9d2-2d57-4670-951c-84db78e19836",
   "metadata": {},
   "outputs": [
    {
     "name": "stdout",
     "output_type": "stream",
     "text": [
      "<class 'pandas.core.frame.DataFrame'>\n",
      "RangeIndex: 660679 entries, 0 to 660678\n",
      "Data columns (total 14 columns):\n",
      " #   Column                   Non-Null Count   Dtype  \n",
      "---  ------                   --------------   -----  \n",
      " 0   Index                    660679 non-null  object \n",
      " 1   Accident_Severity        660679 non-null  object \n",
      " 2   Accident Date            660679 non-null  object \n",
      " 3   Latitude                 660654 non-null  float64\n",
      " 4   Light_Conditions         660679 non-null  object \n",
      " 5   District Area            660679 non-null  object \n",
      " 6   Longitude                660653 non-null  float64\n",
      " 7   Number_of_Casualties     660679 non-null  int64  \n",
      " 8   Number_of_Vehicles       660679 non-null  int64  \n",
      " 9   Road_Surface_Conditions  659953 non-null  object \n",
      " 10  Road_Type                656159 non-null  object \n",
      " 11  Urban_or_Rural_Area      660664 non-null  object \n",
      " 12  Weather_Conditions       646551 non-null  object \n",
      " 13  Vehicle_Type             660679 non-null  object \n",
      "dtypes: float64(2), int64(2), object(10)\n",
      "memory usage: 70.6+ MB\n"
     ]
    }
   ],
   "source": [
    "accident.info()"
   ]
  },
  {
   "cell_type": "markdown",
   "id": "0b9332ea-fdc3-42c4-97a8-8e7f13299f19",
   "metadata": {},
   "source": [
    "<h3>Check & Clean Null Value</h3>"
   ]
  },
  {
   "cell_type": "code",
   "execution_count": 4,
   "id": "8af97ec6-83d6-4a01-a1e2-b5cde325c89c",
   "metadata": {},
   "outputs": [
    {
     "data": {
      "text/plain": [
       "Index                          0\n",
       "Accident_Severity              0\n",
       "Accident Date                  0\n",
       "Latitude                      25\n",
       "Light_Conditions               0\n",
       "District Area                  0\n",
       "Longitude                     26\n",
       "Number_of_Casualties           0\n",
       "Number_of_Vehicles             0\n",
       "Road_Surface_Conditions      726\n",
       "Road_Type                   4520\n",
       "Urban_or_Rural_Area           15\n",
       "Weather_Conditions         14128\n",
       "Vehicle_Type                   0\n",
       "dtype: int64"
      ]
     },
     "execution_count": 4,
     "metadata": {},
     "output_type": "execute_result"
    }
   ],
   "source": [
    "accident.isnull().sum()"
   ]
  },
  {
   "cell_type": "code",
   "execution_count": 5,
   "id": "115e0766-4b47-48f4-a4fd-9da96c6db286",
   "metadata": {},
   "outputs": [
    {
     "data": {
      "text/plain": [
       "np.float64(52.458798)"
      ]
     },
     "execution_count": 5,
     "metadata": {},
     "output_type": "execute_result"
    }
   ],
   "source": [
    "accident['Latitude'].mode()[0]"
   ]
  },
  {
   "cell_type": "code",
   "execution_count": 6,
   "id": "ee28e9b3-eb84-4e9d-a472-76bd485bb3c5",
   "metadata": {},
   "outputs": [
    {
     "data": {
      "text/plain": [
       "Index                          0\n",
       "Accident_Severity              0\n",
       "Accident Date                  0\n",
       "Latitude                       0\n",
       "Light_Conditions               0\n",
       "District Area                  0\n",
       "Longitude                     26\n",
       "Number_of_Casualties           0\n",
       "Number_of_Vehicles             0\n",
       "Road_Surface_Conditions      726\n",
       "Road_Type                   4520\n",
       "Urban_or_Rural_Area           15\n",
       "Weather_Conditions         14128\n",
       "Vehicle_Type                   0\n",
       "dtype: int64"
      ]
     },
     "execution_count": 6,
     "metadata": {},
     "output_type": "execute_result"
    }
   ],
   "source": [
    "accident['Latitude'] = accident['Latitude'].fillna(accident['Latitude'].mode()[0])\n",
    "accident.isnull().sum()"
   ]
  },
  {
   "cell_type": "code",
   "execution_count": 7,
   "id": "edc5077e-ae4f-432c-9172-0c0dcd781ebe",
   "metadata": {},
   "outputs": [
    {
     "data": {
      "text/plain": [
       "np.float64(-0.977611)"
      ]
     },
     "execution_count": 7,
     "metadata": {},
     "output_type": "execute_result"
    }
   ],
   "source": [
    "accident['Longitude'].mode()[0]"
   ]
  },
  {
   "cell_type": "code",
   "execution_count": 8,
   "id": "105a23c6-e917-4651-8778-613ef3daf7f2",
   "metadata": {},
   "outputs": [
    {
     "data": {
      "text/plain": [
       "Index                          0\n",
       "Accident_Severity              0\n",
       "Accident Date                  0\n",
       "Latitude                       0\n",
       "Light_Conditions               0\n",
       "District Area                  0\n",
       "Longitude                      0\n",
       "Number_of_Casualties           0\n",
       "Number_of_Vehicles             0\n",
       "Road_Surface_Conditions      726\n",
       "Road_Type                   4520\n",
       "Urban_or_Rural_Area           15\n",
       "Weather_Conditions         14128\n",
       "Vehicle_Type                   0\n",
       "dtype: int64"
      ]
     },
     "execution_count": 8,
     "metadata": {},
     "output_type": "execute_result"
    }
   ],
   "source": [
    "accident['Longitude'] = accident['Longitude'].fillna(accident['Longitude'].mode()[0])\n",
    "accident.isnull().sum()"
   ]
  },
  {
   "cell_type": "code",
   "execution_count": 9,
   "id": "ead8ebf9-4cad-499a-8ffa-bed2b8e53208",
   "metadata": {},
   "outputs": [
    {
     "data": {
      "text/plain": [
       "Index                          0\n",
       "Accident_Severity              0\n",
       "Accident Date                  0\n",
       "Latitude                       0\n",
       "Light_Conditions               0\n",
       "District Area                  0\n",
       "Longitude                      0\n",
       "Number_of_Casualties           0\n",
       "Number_of_Vehicles             0\n",
       "Road_Surface_Conditions        0\n",
       "Road_Type                   4520\n",
       "Urban_or_Rural_Area           15\n",
       "Weather_Conditions         14128\n",
       "Vehicle_Type                   0\n",
       "dtype: int64"
      ]
     },
     "execution_count": 9,
     "metadata": {},
     "output_type": "execute_result"
    }
   ],
   "source": [
    "accident['Road_Surface_Conditions'] = accident['Road_Surface_Conditions'].fillna('uncategorize')\n",
    "accident.isnull().sum()"
   ]
  },
  {
   "cell_type": "code",
   "execution_count": 10,
   "id": "abe18290-f839-4f1e-8cc9-b8911afea63b",
   "metadata": {},
   "outputs": [
    {
     "data": {
      "text/plain": [
       "Index                          0\n",
       "Accident_Severity              0\n",
       "Accident Date                  0\n",
       "Latitude                       0\n",
       "Light_Conditions               0\n",
       "District Area                  0\n",
       "Longitude                      0\n",
       "Number_of_Casualties           0\n",
       "Number_of_Vehicles             0\n",
       "Road_Surface_Conditions        0\n",
       "Road_Type                      0\n",
       "Urban_or_Rural_Area           15\n",
       "Weather_Conditions         14128\n",
       "Vehicle_Type                   0\n",
       "dtype: int64"
      ]
     },
     "execution_count": 10,
     "metadata": {},
     "output_type": "execute_result"
    }
   ],
   "source": [
    "accident['Road_Type'] = accident['Road_Type'].fillna('uncategorize')\n",
    "accident.isnull().sum()"
   ]
  },
  {
   "cell_type": "code",
   "execution_count": 11,
   "id": "bc3ca1b7-d27b-4d55-b728-1213ac8b50e7",
   "metadata": {},
   "outputs": [
    {
     "data": {
      "text/plain": [
       "'Urban'"
      ]
     },
     "execution_count": 11,
     "metadata": {},
     "output_type": "execute_result"
    }
   ],
   "source": [
    "accident['Urban_or_Rural_Area'].mode()[0]"
   ]
  },
  {
   "cell_type": "code",
   "execution_count": 12,
   "id": "d731f4ea-79ce-4ff4-b4ab-c72fd12b2361",
   "metadata": {},
   "outputs": [
    {
     "data": {
      "text/plain": [
       "Index                          0\n",
       "Accident_Severity              0\n",
       "Accident Date                  0\n",
       "Latitude                       0\n",
       "Light_Conditions               0\n",
       "District Area                  0\n",
       "Longitude                      0\n",
       "Number_of_Casualties           0\n",
       "Number_of_Vehicles             0\n",
       "Road_Surface_Conditions        0\n",
       "Road_Type                      0\n",
       "Urban_or_Rural_Area            0\n",
       "Weather_Conditions         14128\n",
       "Vehicle_Type                   0\n",
       "dtype: int64"
      ]
     },
     "execution_count": 12,
     "metadata": {},
     "output_type": "execute_result"
    }
   ],
   "source": [
    "accident['Urban_or_Rural_Area'] = accident['Urban_or_Rural_Area'].fillna(accident['Urban_or_Rural_Area'].mode()[0])\n",
    "accident.isnull().sum()"
   ]
  },
  {
   "cell_type": "code",
   "execution_count": 13,
   "id": "dee67c36-a08a-4ba0-886f-ed70cba8eacd",
   "metadata": {},
   "outputs": [
    {
     "data": {
      "text/plain": [
       "Index                      0\n",
       "Accident_Severity          0\n",
       "Accident Date              0\n",
       "Latitude                   0\n",
       "Light_Conditions           0\n",
       "District Area              0\n",
       "Longitude                  0\n",
       "Number_of_Casualties       0\n",
       "Number_of_Vehicles         0\n",
       "Road_Surface_Conditions    0\n",
       "Road_Type                  0\n",
       "Urban_or_Rural_Area        0\n",
       "Weather_Conditions         0\n",
       "Vehicle_Type               0\n",
       "dtype: int64"
      ]
     },
     "execution_count": 13,
     "metadata": {},
     "output_type": "execute_result"
    }
   ],
   "source": [
    "accident['Weather_Conditions'] = accident['Weather_Conditions'].fillna('uncategorize')\n",
    "accident.isnull().sum()"
   ]
  },
  {
   "cell_type": "markdown",
   "id": "4edcf544-b941-4c6d-af1e-1027e6190318",
   "metadata": {},
   "source": [
    "<h3>Adjusting Date to Datetime</h3>"
   ]
  },
  {
   "cell_type": "code",
   "execution_count": 14,
   "id": "a806e050-841f-4edb-b140-0acab7f22835",
   "metadata": {},
   "outputs": [],
   "source": [
    "accident['Accident Date'] = accident['Accident Date'].astype('str')\n",
    "accident['Accident Date'] = accident['Accident Date'].str.strip()\n",
    "accident['Accident Date'] = accident['Accident Date'].str.replace('/','-')\n",
    "accident['Accident Date'] = pd.to_datetime(accident['Accident Date'], dayfirst = True, errors = 'coerce')"
   ]
  },
  {
   "cell_type": "markdown",
   "id": "acf318f6-a52e-4de4-acd5-03d0c6d8c66c",
   "metadata": {},
   "source": [
    "<h3>Adding Columns for Year, Month, Day and Day of the Week</h3>"
   ]
  },
  {
   "cell_type": "code",
   "execution_count": 15,
   "id": "986a3d2e-41d2-4fcf-9964-8411c187caac",
   "metadata": {},
   "outputs": [
    {
     "name": "stdout",
     "output_type": "stream",
     "text": [
      "<class 'pandas.core.frame.DataFrame'>\n",
      "RangeIndex: 660679 entries, 0 to 660678\n",
      "Data columns (total 18 columns):\n",
      " #   Column                   Non-Null Count   Dtype         \n",
      "---  ------                   --------------   -----         \n",
      " 0   Index                    660679 non-null  object        \n",
      " 1   Accident_Severity        660679 non-null  object        \n",
      " 2   Accident Date            660679 non-null  datetime64[ns]\n",
      " 3   Latitude                 660679 non-null  float64       \n",
      " 4   Light_Conditions         660679 non-null  object        \n",
      " 5   District Area            660679 non-null  object        \n",
      " 6   Longitude                660679 non-null  float64       \n",
      " 7   Number_of_Casualties     660679 non-null  int64         \n",
      " 8   Number_of_Vehicles       660679 non-null  int64         \n",
      " 9   Road_Surface_Conditions  660679 non-null  object        \n",
      " 10  Road_Type                660679 non-null  object        \n",
      " 11  Urban_or_Rural_Area      660679 non-null  object        \n",
      " 12  Weather_Conditions       660679 non-null  object        \n",
      " 13  Vehicle_Type             660679 non-null  object        \n",
      " 14  Year                     660679 non-null  int32         \n",
      " 15  Month                    660679 non-null  int32         \n",
      " 16  Day                      660679 non-null  int32         \n",
      " 17  DayOfTheWeek             660679 non-null  int32         \n",
      "dtypes: datetime64[ns](1), float64(2), int32(4), int64(2), object(9)\n",
      "memory usage: 80.6+ MB\n"
     ]
    }
   ],
   "source": [
    "accident['Year'] = accident['Accident Date'].dt.year\n",
    "accident['Month'] = accident['Accident Date'].dt.month\n",
    "accident['Day'] = accident['Accident Date'].dt.day\n",
    "accident['DayOfTheWeek'] = accident['Accident Date'].dt.dayofweek\n",
    "accident.info()"
   ]
  },
  {
   "cell_type": "code",
   "execution_count": 16,
   "id": "45791b94-6d99-4f94-92e9-0061bd562f3d",
   "metadata": {},
   "outputs": [
    {
     "name": "stdout",
     "output_type": "stream",
     "text": [
      "<class 'pandas.core.frame.DataFrame'>\n",
      "RangeIndex: 660679 entries, 0 to 660678\n",
      "Data columns (total 18 columns):\n",
      " #   Column                   Non-Null Count   Dtype         \n",
      "---  ------                   --------------   -----         \n",
      " 0   Index                    660679 non-null  object        \n",
      " 1   Accident_Severity        660679 non-null  category      \n",
      " 2   Accident Date            660679 non-null  datetime64[ns]\n",
      " 3   Latitude                 660679 non-null  float64       \n",
      " 4   Light_Conditions         660679 non-null  category      \n",
      " 5   District Area            660679 non-null  category      \n",
      " 6   Longitude                660679 non-null  float64       \n",
      " 7   Number_of_Casualties     660679 non-null  int64         \n",
      " 8   Number_of_Vehicles       660679 non-null  int64         \n",
      " 9   Road_Surface_Conditions  660679 non-null  category      \n",
      " 10  Road_Type                660679 non-null  category      \n",
      " 11  Urban_or_Rural_Area      660679 non-null  category      \n",
      " 12  Weather_Conditions       660679 non-null  category      \n",
      " 13  Vehicle_Type             660679 non-null  category      \n",
      " 14  Year                     660679 non-null  category      \n",
      " 15  Month                    660679 non-null  int32         \n",
      " 16  Day                      660679 non-null  int32         \n",
      " 17  DayOfTheWeek             660679 non-null  int32         \n",
      "dtypes: category(9), datetime64[ns](1), float64(2), int32(3), int64(2), object(1)\n",
      "memory usage: 44.1+ MB\n"
     ]
    }
   ],
   "source": [
    "for col in ['Accident_Severity','Light_Conditions','District Area','Road_Surface_Conditions','Road_Type','Urban_or_Rural_Area',\n",
    "            'Weather_Conditions','Vehicle_Type','Year']:\n",
    "    if col in accident.columns:\n",
    "        accident[col]=accident[col].astype('category')\n",
    "\n",
    "accident.info()"
   ]
  },
  {
   "cell_type": "markdown",
   "id": "a0ead201-0ca5-4739-84be-b2e73a22a1d8",
   "metadata": {},
   "source": [
    "<h2>Q1. Which District areas have the highest & lowest number of accidents?</h2>"
   ]
  },
  {
   "cell_type": "code",
   "execution_count": 17,
   "id": "32f9d606-5c23-43b6-a45f-fb44f86c3d62",
   "metadata": {},
   "outputs": [
    {
     "data": {
      "text/plain": [
       "District Area\n",
       "Birmingham            13491\n",
       "Leeds                  8898\n",
       "Manchester             6720\n",
       "Bradford               6212\n",
       "Sheffield              5710\n",
       "                      ...  \n",
       "Berwick-upon-Tweed      153\n",
       "Teesdale                142\n",
       "Shetland Islands        133\n",
       "Orkney Islands          117\n",
       "Clackmannanshire         91\n",
       "Name: count, Length: 422, dtype: int64"
      ]
     },
     "execution_count": 17,
     "metadata": {},
     "output_type": "execute_result"
    }
   ],
   "source": [
    "accident['District Area'].value_counts()"
   ]
  },
  {
   "cell_type": "markdown",
   "id": "1b0cf3dd-97e7-4016-9bba-8270a7587585",
   "metadata": {},
   "source": [
    "<h3>Insight : Birmingham have the highest number of accidents. <br>\n",
    "Insight : Clackmannanshire have the lowest number of accidents.</h3>"
   ]
  },
  {
   "cell_type": "markdown",
   "id": "62ae7e69-bae2-46d0-9b07-3dac2f67f212",
   "metadata": {},
   "source": [
    "<h2>Q2. What are the top 10 District most accident-prone areas?</h2>"
   ]
  },
  {
   "cell_type": "code",
   "execution_count": 37,
   "id": "b0edcf52-2f41-4488-ac41-567492be9b36",
   "metadata": {},
   "outputs": [
    {
     "data": {
      "text/plain": [
       "District Area\n",
       "Birmingham          13491\n",
       "Leeds                8898\n",
       "Manchester           6720\n",
       "Bradford             6212\n",
       "Sheffield            5710\n",
       "Westminster          5706\n",
       "Liverpool            5587\n",
       "Glasgow City         4942\n",
       "Bristol, City of     4819\n",
       "Kirklees             4690\n",
       "Name: count, dtype: int64"
      ]
     },
     "execution_count": 37,
     "metadata": {},
     "output_type": "execute_result"
    }
   ],
   "source": [
    "accident['District Area'].value_counts().head(10)"
   ]
  },
  {
   "cell_type": "code",
   "execution_count": null,
   "id": "4f1631fd-fb6c-4695-bc30-7ed5edf6e2ff",
   "metadata": {},
   "outputs": [],
   "source": []
  },
  {
   "cell_type": "markdown",
   "id": "0238e3e4-1d33-4bdc-8505-50e96d1e09d6",
   "metadata": {},
   "source": [
    "<h2>Q3. Are accidents more common in urban or rural areas?</h2>"
   ]
  },
  {
   "cell_type": "code",
   "execution_count": 38,
   "id": "8ad0eb7a-cf92-445c-b8a9-842f8782a5e1",
   "metadata": {},
   "outputs": [
    {
     "data": {
      "text/plain": [
       "Urban_or_Rural_Area\n",
       "Urban          421678\n",
       "Rural          238990\n",
       "Unallocated        11\n",
       "Name: count, dtype: int64"
      ]
     },
     "execution_count": 38,
     "metadata": {},
     "output_type": "execute_result"
    }
   ],
   "source": [
    "accident['Urban_or_Rural_Area'].value_counts()"
   ]
  },
  {
   "cell_type": "markdown",
   "id": "890fbaae-b5f4-4ebf-84b1-bb3278a4d119",
   "metadata": {},
   "source": [
    "<h3>Insight : Accidents are more common in Urban area.</h3>"
   ]
  },
  {
   "cell_type": "markdown",
   "id": "a56266bc-837b-4847-97ff-624b783dc172",
   "metadata": {},
   "source": [
    "<h2>Q4. Is there a spatial relationship between accident severity and district area?</h2>"
   ]
  },
  {
   "cell_type": "code",
   "execution_count": 45,
   "id": "8da0304d-0fe9-40e3-a4e8-d3065803dda1",
   "metadata": {},
   "outputs": [
    {
     "data": {
      "image/png": "[encoded data removed]",
      "text/plain": [
       "<Figure size 640x480 with 1 Axes>"
      ]
     },
     "metadata": {},
     "output_type": "display_data"
    }
   ],
   "source": [
    "accident.groupby(['District Area','Accident_Severity']).size().unstack().plot(kind='bar')\n",
    "plt.show()"
   ]
  },
  {
   "cell_type": "code",
   "execution_count": null,
   "id": "60b6b4e2-8396-485c-aa25-efeedb5e3d5b",
   "metadata": {},
   "outputs": [],
   "source": [
    "accident.info()"
   ]
  },
  {
   "cell_type": "markdown",
   "id": "1504bca9-5f0c-491d-b07a-343df7ea1a46",
   "metadata": {},
   "source": [
    "<h2>Q5. Do rural areas experience more severe accidents compared to urban areas?</h2>"
   ]
  },
  {
   "cell_type": "code",
   "execution_count": 63,
   "id": "289f801f-3e7c-4b8e-9ad0-53d6143e994e",
   "metadata": {},
   "outputs": [
    {
     "data": {
      "image/png": "[encoded data removed]",
      "text/plain": [
       "<Figure size 800x400 with 1 Axes>"
      ]
     },
     "metadata": {},
     "output_type": "display_data"
    }
   ],
   "source": [
    "accident.groupby(['Urban_or_Rural_Area','Accident_Severity']).size().unstack().plot(kind='bar', figsize=(8,4))\n",
    "plt.xticks(rotation=0)\n",
    "plt.tight_layout()\n",
    "plt.show()"
   ]
  },
  {
   "cell_type": "code",
   "execution_count": null,
   "id": "9d2a4716-685b-4532-a2e8-902bce5d6f65",
   "metadata": {},
   "outputs": [],
   "source": []
  },
  {
   "cell_type": "markdown",
   "id": "fa6783a5-671e-4e0b-88ad-31d19fc508ef",
   "metadata": {},
   "source": [
    "<h2>Q6. Which regions have the highest casualty counts per accident?</h2>"
   ]
  },
  {
   "cell_type": "code",
   "execution_count": null,
   "id": "bf908ba6-ed5d-437d-8726-c2d4e2f0fb67",
   "metadata": {},
   "outputs": [],
   "source": []
  },
  {
   "cell_type": "code",
   "execution_count": null,
   "id": "d789f8c8-0c6e-466a-a4b6-602c667e41cc",
   "metadata": {},
   "outputs": [],
   "source": []
  },
  {
   "cell_type": "markdown",
   "id": "699ddadc-2369-4169-b18e-a7f394b9ad5c",
   "metadata": {},
   "source": [
    "<h2>Q7. Are certain districts more prone to multi-vehicle collisions?</h2>"
   ]
  },
  {
   "cell_type": "code",
   "execution_count": null,
   "id": "f6b0763a-6b38-4501-8c4b-7bf84c8035d3",
   "metadata": {},
   "outputs": [],
   "source": []
  },
  {
   "cell_type": "code",
   "execution_count": null,
   "id": "f3f30612-1c5b-445a-9415-1ee9eb7d46c0",
   "metadata": {},
   "outputs": [],
   "source": []
  },
  {
   "cell_type": "markdown",
   "id": "645e02e6-f1ec-49aa-a114-f9585f225691",
   "metadata": {},
   "source": [
    "<h2>Q8. What are the average number of vehicles involved per accident by severity?</h2>"
   ]
  },
  {
   "cell_type": "code",
   "execution_count": 29,
   "id": "eea5d8bb-420c-4b9d-9bd4-1b2fc35b200c",
   "metadata": {},
   "outputs": [
    {
     "data": {
      "text/plain": [
       "Accident_Severity\n",
       "Slight     1.855864\n",
       "Fatal      1.786976\n",
       "Serious    1.678327\n",
       "Name: Number_of_Vehicles, dtype: float64"
      ]
     },
     "execution_count": 29,
     "metadata": {},
     "output_type": "execute_result"
    }
   ],
   "source": [
    "accident.groupby('Accident_Severity')['Number_of_Vehicles'].mean().sort_values(ascending=False)"
   ]
  },
  {
   "cell_type": "markdown",
   "id": "fd5afa20-fc3e-4c70-8a74-bf4e1d87e127",
   "metadata": {},
   "source": [
    "<h3>Insight : The Average number of vehicles involved per accident with Slight Severity is 1.86, with Fatal Severity is 1.79, with Serious Severity is 1.67.</h3>"
   ]
  },
  {
   "cell_type": "markdown",
   "id": "2e720a7c-1cae-487d-8599-22df5b109226",
   "metadata": {},
   "source": [
    "<h2>Q9. Which type of vehicle is the most frequent to be involved in accidents?</h2>"
   ]
  },
  {
   "cell_type": "code",
   "execution_count": 30,
   "id": "e7debad1-1221-40b0-9a26-c160eeef63ae",
   "metadata": {},
   "outputs": [
    {
     "data": {
      "text/plain": [
       "Vehicle_Type\n",
       "Car                                      497992\n",
       "Van / Goods 3.5 tonnes mgw or under       34160\n",
       "Bus or coach (17 or more pass seats)      25878\n",
       "Motorcycle over 500cc                     25657\n",
       "Goods 7.5 tonnes mgw and over             17307\n",
       "Motorcycle 125cc and under                15269\n",
       "Taxi/Private hire car                     13294\n",
       "Motorcycle over 125cc and up to 500cc      7656\n",
       "Motorcycle 50cc and under                  7603\n",
       "Goods over 3.5t. and under 7.5t            6096\n",
       "Other vehicle                              5637\n",
       "Minibus (8 - 16 passenger seats)           1976\n",
       "Agricultural vehicle                       1947\n",
       "Pedal cycle                                 197\n",
       "Data missing or out of range                  6\n",
       "Ridden horse                                  4\n",
       "Name: count, dtype: int64"
      ]
     },
     "execution_count": 30,
     "metadata": {},
     "output_type": "execute_result"
    }
   ],
   "source": [
    "accident['Vehicle_Type'].value_counts()"
   ]
  },
  {
   "cell_type": "markdown",
   "id": "d088032d-30ca-4f5a-83e2-2a8214f56d0b",
   "metadata": {},
   "source": [
    "<h3>Inight : Car is the vehicle type that is most frequent to be involved in accidents.</h3>"
   ]
  },
  {
   "cell_type": "markdown",
   "id": "db41c6ba-6bc1-49c7-bd77-f80497927346",
   "metadata": {},
   "source": [
    "<h2>Q10. What is the relationship between vehicle type and number of casualties?</h2>"
   ]
  },
  {
   "cell_type": "code",
   "execution_count": 31,
   "id": "370892f9-6775-4a61-aaaa-e30a617833a3",
   "metadata": {},
   "outputs": [
    {
     "data": {
      "text/plain": [
       "Vehicle_Type\n",
       "Data missing or out of range             1.500000\n",
       "Pedal cycle                              1.370558\n",
       "Taxi/Private hire car                    1.368663\n",
       "Goods over 3.5t. and under 7.5t          1.362861\n",
       "Motorcycle over 500cc                    1.359434\n",
       "Car                                      1.358841\n",
       "Van / Goods 3.5 tonnes mgw or under      1.354537\n",
       "Goods 7.5 tonnes mgw and over            1.351881\n",
       "Bus or coach (17 or more pass seats)     1.349216\n",
       "Minibus (8 - 16 passenger seats)         1.345648\n",
       "Motorcycle over 125cc and up to 500cc    1.343521\n",
       "Agricultural vehicle                     1.342065\n",
       "Other vehicle                            1.340075\n",
       "Motorcycle 50cc and under                1.337235\n",
       "Motorcycle 125cc and under               1.332635\n",
       "Ridden horse                             1.250000\n",
       "Name: Number_of_Casualties, dtype: float64"
      ]
     },
     "execution_count": 31,
     "metadata": {},
     "output_type": "execute_result"
    }
   ],
   "source": [
    "accident.groupby('Vehicle_Type')['Number_of_Casualties'].mean().sort_values(ascending=False)"
   ]
  },
  {
   "cell_type": "code",
   "execution_count": null,
   "id": "7d78f23d-8820-4e1d-8f3c-66ea0f82d634",
   "metadata": {},
   "outputs": [],
   "source": []
  },
  {
   "cell_type": "markdown",
   "id": "9ff931b8-a93e-4858-8b18-bb114f07fbd7",
   "metadata": {},
   "source": [
    "<h2>Q11. Are multi-vehicle accidents more likely to result in severe casualties?</h2>"
   ]
  },
  {
   "cell_type": "code",
   "execution_count": 34,
   "id": "606cd9b0-c364-49c6-bcb1-cb15955bdbfb",
   "metadata": {},
   "outputs": [
    {
     "data": {
      "text/plain": [
       "Index          Accident_Severity  Accident Date  Latitude   Light_Conditions        District Area  Longitude  Number_of_Casualties  Number_of_Vehicles  Road_Surface_Conditions  Road_Type           Urban_or_Rural_Area  Weather_Conditions     Vehicle_Type           Year  Month  Day  DayOfTheWeek\n",
       "2.01E+08       Serious            2022-01-08     51.917709  Daylight                Stevenage      -0.211218  2                     3                   Wet or damp              Dual carriageway    Urban                Fine no high winds     Car                    2022  1      8    5               1\n",
       "200842I214806  Serious            2020-06-23     51.874324  Daylight                Uttlesford      0.237859  1                     1                   Dry                      Dual carriageway    Rural                Fine no high winds     Car                    2020  6      23   1               1\n",
       "200842I373410  Serious            2020-10-20     51.716457  Daylight                Chelmsford      0.589980  1                     1                   Dry                      Single carriageway  Rural                Fine no high winds     Car                    2020  10     20   1               1\n",
       "200842I374710  Serious            2020-10-22     51.572148  Daylight                Basildon        0.428494  1                     1                   Dry                      Single carriageway  Urban                Fine no high winds     Car                    2020  10     22   3               1\n",
       "200842I376410  Serious            2020-10-07     51.637177  Darkness - no lighting  Epping Forest   0.040741  2                     3                   Dry                      Single carriageway  Rural                Fine no high winds     Car                    2020  10     7    2               1\n",
       "                                                                                                                                                                                                                                                                                                         ..\n",
       "2.01E+12       Serious            2022-07-08     51.122075  Daylight                Shepway         1.051236  1                     1                   Dry                      Single carriageway  Rural                Fine no high winds     Car                    2022  7      8    4               1\n",
       "                                                 51.280746  Daylight                Hart           -0.892648  1                     1                   Dry                      Single carriageway  Rural                Fine no high winds     Car                    2022  7      8    4               1\n",
       "                                                 51.331802  Daylight                Thanet          1.404588  1                     1                   Dry                      Single carriageway  Urban                Fine no high winds     Car                    2022  7      8    4               1\n",
       "                                                 51.438345  Daylight                Gravesham       0.365987  1                     1                   Dry                      One way street      Urban                Fine no high winds     Motorcycle over 500cc  2022  7      8    4               1\n",
       "201091NM02142  Serious            2022-02-28     57.575210  Daylight                Highland       -3.895673  1                     1                   Wet or damp              Dual carriageway    Rural                Snowing no high winds  Car                    2022  2      28   0               1\n",
       "Name: count, Length: 45145, dtype: int64"
      ]
     },
     "execution_count": 34,
     "metadata": {},
     "output_type": "execute_result"
    }
   ],
   "source": [
    "accident[(accident['Number_of_Vehicles']) & (accident['Accident_Severity'] == 'Serious')].value_counts()"
   ]
  },
  {
   "cell_type": "code",
   "execution_count": null,
   "id": "fd256ffb-912b-457c-a040-a884a1d36341",
   "metadata": {},
   "outputs": [],
   "source": []
  },
  {
   "cell_type": "markdown",
   "id": "816cc00e-3b21-4c76-b2ec-422c93387efb",
   "metadata": {},
   "source": [
    "<h2>Q12. What proportion of accidents involve only one vehicle vs multiple vehicle?</h2>"
   ]
  },
  {
   "cell_type": "code",
   "execution_count": null,
   "id": "37cf39c7-3860-4a21-ac2f-115d1a2258ba",
   "metadata": {},
   "outputs": [],
   "source": []
  },
  {
   "cell_type": "code",
   "execution_count": null,
   "id": "a9b13018-3138-491f-ad3b-11ca8a77f743",
   "metadata": {},
   "outputs": [],
   "source": []
  },
  {
   "cell_type": "markdown",
   "id": "2f57d618-a080-44fe-bddd-3ca72d75a1ab",
   "metadata": {},
   "source": [
    "<h2>Q13. Which vehicle types are most associated with fatal accidents?</h2>"
   ]
  },
  {
   "cell_type": "code",
   "execution_count": null,
   "id": "cfa8b327-4bd9-40a8-b90d-5693bd6ac52c",
   "metadata": {},
   "outputs": [],
   "source": []
  },
  {
   "cell_type": "code",
   "execution_count": null,
   "id": "bdedbd4e-b4b2-4ec7-9781-bb1c8cdb0c98",
   "metadata": {},
   "outputs": [],
   "source": []
  },
  {
   "cell_type": "markdown",
   "id": "0d4ffae6-248c-403e-a6d1-61d1bf165293",
   "metadata": {},
   "source": [
    "<h2>Q14. Is there a trend in the number of casualties per accident over the years?</h2>"
   ]
  },
  {
   "cell_type": "code",
   "execution_count": null,
   "id": "c8ce4635-9c4c-4570-92ae-9dabddb03fde",
   "metadata": {},
   "outputs": [],
   "source": []
  },
  {
   "cell_type": "code",
   "execution_count": null,
   "id": "7d7e24df-dc93-4ce9-9186-cd1a83d7290b",
   "metadata": {},
   "outputs": [],
   "source": []
  },
  {
   "cell_type": "markdown",
   "id": "6e8fc5ba-debb-4342-b506-98d9128e3fe2",
   "metadata": {},
   "source": [
    "<h2>Q15. How do weather conditions affect accident severity?</h2>"
   ]
  },
  {
   "cell_type": "code",
   "execution_count": null,
   "id": "16222274-5a85-4641-a1a3-d8222c0ff374",
   "metadata": {},
   "outputs": [],
   "source": []
  },
  {
   "cell_type": "code",
   "execution_count": null,
   "id": "3a90373b-1d09-4503-8d0f-ff6112fab583",
   "metadata": {},
   "outputs": [],
   "source": []
  },
  {
   "cell_type": "markdown",
   "id": "bde22f93-0e59-4ea1-abdd-25011d4fd570",
   "metadata": {},
   "source": [
    "<h2>Q16. Which light conditions are most associated with fatal accidents?</h2>"
   ]
  },
  {
   "cell_type": "code",
   "execution_count": null,
   "id": "eab9bbfa-26d2-4e0b-9255-5ce672cc872d",
   "metadata": {},
   "outputs": [],
   "source": []
  },
  {
   "cell_type": "code",
   "execution_count": null,
   "id": "981f1188-26ba-4fcd-bd25-2c04b2b55ab1",
   "metadata": {},
   "outputs": [],
   "source": []
  },
  {
   "cell_type": "markdown",
   "id": "d103cd2c-3149-45c1-9c0a-9138463e8d7c",
   "metadata": {},
   "source": [
    "<h2>Q17. Does road surface condition significantly correlate with accident frequency?</h2>"
   ]
  },
  {
   "cell_type": "code",
   "execution_count": null,
   "id": "967b6e70-5c48-4d78-aadb-102cb7e26662",
   "metadata": {},
   "outputs": [],
   "source": []
  },
  {
   "cell_type": "code",
   "execution_count": null,
   "id": "ca8a5766-4bc9-4ec0-b44d-a132a90ace56",
   "metadata": {},
   "outputs": [],
   "source": []
  },
  {
   "cell_type": "markdown",
   "id": "2ba58593-5c22-44ee-a3f0-0dd8760f89d5",
   "metadata": {},
   "source": [
    "<h2>Q18. How do diffirent road types impact severity?</h2>"
   ]
  },
  {
   "cell_type": "code",
   "execution_count": null,
   "id": "362c852e-4bf9-4b25-b1a5-5234cea785a8",
   "metadata": {},
   "outputs": [],
   "source": []
  },
  {
   "cell_type": "code",
   "execution_count": null,
   "id": "a5b6fccb-f053-46ed-b1c0-37f59c7622ee",
   "metadata": {},
   "outputs": [],
   "source": []
  },
  {
   "cell_type": "markdown",
   "id": "f8ce4999-6333-4214-88f6-bbd87c46f558",
   "metadata": {},
   "source": [
    "<h2>Q19. What combination of weather, road surface, and light conditions produces the highest accident risk?</h2>"
   ]
  },
  {
   "cell_type": "code",
   "execution_count": null,
   "id": "17d0f1bf-86b7-4f37-9517-73fce80dbaed",
   "metadata": {},
   "outputs": [],
   "source": []
  },
  {
   "cell_type": "code",
   "execution_count": null,
   "id": "7a02dfcf-4e5c-4ef3-bcae-03c6fcdefece",
   "metadata": {},
   "outputs": [],
   "source": []
  },
  {
   "cell_type": "markdown",
   "id": "b763b71b-82c8-4990-9fa0-20120388eb6a",
   "metadata": {},
   "source": [
    "<h2>Q20. Are accidents more common during adverse weather in rural or urban areas?</h2>"
   ]
  },
  {
   "cell_type": "code",
   "execution_count": null,
   "id": "d76f21f8-18ac-46fb-b93e-cb792a3d908b",
   "metadata": {},
   "outputs": [],
   "source": []
  },
  {
   "cell_type": "code",
   "execution_count": null,
   "id": "d7719370-1883-41fd-b0ef-4d1001b784d1",
   "metadata": {},
   "outputs": [],
   "source": []
  },
  {
   "cell_type": "markdown",
   "id": "6a660322-b7ac-47eb-9afa-3db7341a91b3",
   "metadata": {},
   "source": [
    "<h2>Q21. Is there a difference in severity between daylight accidents during rain vs. darkness accidents during rain?</h2>"
   ]
  },
  {
   "cell_type": "code",
   "execution_count": null,
   "id": "17750025-a282-4bb1-98c7-71ecbfbead16",
   "metadata": {},
   "outputs": [],
   "source": []
  },
  {
   "cell_type": "code",
   "execution_count": null,
   "id": "aee52ce3-ed6f-46e9-acee-453b196a8ce6",
   "metadata": {},
   "outputs": [],
   "source": []
  },
  {
   "cell_type": "markdown",
   "id": "ae99744a-35ec-490a-8826-49ff299523bd",
   "metadata": {},
   "source": [
    "<h2>Q. Accidents per Year</h2>"
   ]
  },
  {
   "cell_type": "code",
   "execution_count": null,
   "id": "ce9fbc98-abc7-4608-a48c-e361a85a24ff",
   "metadata": {},
   "outputs": [],
   "source": [
    "accident['Year'].value_counts().sort_index().plot()\n",
    "plt.show()"
   ]
  },
  {
   "cell_type": "markdown",
   "id": "1c821623-b4fc-4a2e-a91d-629dd5251740",
   "metadata": {},
   "source": [
    "<h3>Insight: </h3>"
   ]
  },
  {
   "cell_type": "markdown",
   "id": "9f61b685-05a0-43ce-9f38-5a24f0df4a01",
   "metadata": {},
   "source": [
    "<h2>Q. Accidents per Month</h2>"
   ]
  },
  {
   "cell_type": "code",
   "execution_count": null,
   "id": "fce692f5-d9b7-4935-b855-a188114e9f20",
   "metadata": {},
   "outputs": [],
   "source": [
    "accident['Month'].value_counts().sort_index().plot()\n",
    "plt.show()"
   ]
  },
  {
   "cell_type": "markdown",
   "id": "cc4cc49a-a013-4d86-8086-e1cb569d7efc",
   "metadata": {},
   "source": [
    "<h3>Insight: </h3>"
   ]
  },
  {
   "cell_type": "markdown",
   "id": "985f42c1-88c3-49cc-a3c3-ff4ce7f34d01",
   "metadata": {},
   "source": [
    "<h2>Q. Accidents per Weekday</h2>"
   ]
  },
  {
   "cell_type": "code",
   "execution_count": null,
   "id": "018ddf41-6737-4e3e-a627-e25fdf178e6d",
   "metadata": {},
   "outputs": [],
   "source": [
    "accident['DayOfTheWeek'].value_counts().sort_index().plot(kind='bar')\n",
    "plt.show()"
   ]
  },
  {
   "cell_type": "code",
   "execution_count": null,
   "id": "9aaad034-beb9-4d3c-b0ab-c1882347e2bb",
   "metadata": {},
   "outputs": [],
   "source": []
  },
  {
   "cell_type": "markdown",
   "id": "e2aab486-2670-46b7-ae9e-75935dbc8344",
   "metadata": {},
   "source": [
    "<h2>Q. Accidents are more frequent during Weekday or Weekend?</h2>"
   ]
  },
  {
   "cell_type": "code",
   "execution_count": null,
   "id": "829ce0ac-ea3c-4774-998a-83fc8dc16ee3",
   "metadata": {},
   "outputs": [],
   "source": [
    "Wkday= accident[accident['DayOfTheDay'] = ['Monday','Tuesday','Wednesday','Thursday','Friday'] ]\n",
    "Wkend= accident[accident['DayOfTheDay'] = ['Saturday','Sunday']]\n"
   ]
  },
  {
   "cell_type": "code",
   "execution_count": null,
   "id": "835ee75d-b336-49e2-acc6-9dca739890fa",
   "metadata": {},
   "outputs": [],
   "source": []
  },
  {
   "cell_type": "markdown",
   "id": "3c1cf0ae-14c0-49aa-a6eb-b5e5f64f542f",
   "metadata": {},
   "source": [
    "<h2>Q. Average accident per day?</h2>"
   ]
  },
  {
   "cell_type": "code",
   "execution_count": null,
   "id": "89d744b5-a3d3-4207-98cc-fcf3b22ab06e",
   "metadata": {},
   "outputs": [],
   "source": [
    "accident.info()"
   ]
  },
  {
   "cell_type": "code",
   "execution_count": null,
   "id": "9a36d7c5-6a35-45be-bd6b-f13d1de0b395",
   "metadata": {},
   "outputs": [],
   "source": [
    "accident['Day'].mean()"
   ]
  },
  {
   "cell_type": "code",
   "execution_count": null,
   "id": "8ef99b9f-0175-487f-8fa8-60a6380e104d",
   "metadata": {},
   "outputs": [],
   "source": []
  },
  {
   "cell_type": "code",
   "execution_count": null,
   "id": "5d58a5c3-98ca-47bd-925c-7a19cc25fb78",
   "metadata": {},
   "outputs": [],
   "source": []
  }
 ],
 "metadata": {
  "kernelspec": {
   "display_name": "Python 3 (ipykernel)",
   "language": "python",
   "name": "python3"
  },
  "language_info": {
   "codemirror_mode": {
    "name": "ipython",
    "version": 3
   },
   "file_extension": ".py",
   "mimetype": "text/x-python",
   "name": "python",
   "nbconvert_exporter": "python",
   "pygments_lexer": "ipython3",
   "version": "3.12.10"
  }
 },
 "nbformat": 4,
 "nbformat_minor": 5
}
